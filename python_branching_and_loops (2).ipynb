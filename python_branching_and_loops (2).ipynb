{
  "cells": [
    {
      "cell_type": "markdown",
      "metadata": {
        "id": "ihpX0gmw6Kq8"
      },
      "source": [
        "# Branching using Conditional Statements and Loops in Python\n",
        "\n",
        "![](https://i.imgur.com/7RfcHV0.png)\n"
      ]
    },
    {
      "cell_type": "markdown",
      "metadata": {
        "id": "PKZ1_V4D6KrB"
      },
      "source": [
        "This tutorial covers the following topics:\n",
        "\n",
        "- Branching with `if`, `else` and `elif`\n",
        "- Nested conditions and `if` expressions\n",
        "- Iteration with `while` loops\n",
        "- Iterating over containers with `for` loops\n",
        "- Nested loops, `break` and `continue` statements"
      ]
    },
    {
      "cell_type": "markdown",
      "metadata": {
        "id": "nZpgbMPr6KrC"
      },
      "source": [
        "### How to run the code\n",
        "\n",
        "This tutorial is an executable [Jupyter notebook](https://jupyter.org) hosted on [Jovian](https://www.jovian.ai). You can _run_ this tutorial and experiment with the code examples in a couple of ways: *using free online resources* (recommended) or *on your computer*.\n",
        "\n",
        "#### Option 1: Running using free online resources (1-click, recommended)\n",
        "\n",
        "The easiest way to start executing the code is to click the **Run** button at the top of this page and select **Run on Binder**. You can also select \"Run on Colab\" or \"Run on Kaggle\", but you'll need to create an account on [Google Colab](https://colab.research.google.com) or [Kaggle](https://kaggle.com) to use these platforms.\n",
        "\n",
        "\n",
        "#### Option 2: Running on your computer locally\n",
        "\n",
        "To run the code on your computer locally, you'll need to set up [Python](https://www.python.org), download the notebook and install the required libraries. We recommend using the [Conda](https://docs.conda.io/projects/conda/en/latest/user-guide/install/) distribution of Python. Click the **Run** button at the top of this page, select the **Run Locally** option, and follow the instructions.\n",
        "\n",
        ">  **Jupyter Notebooks**: This tutorial is a [Jupyter notebook](https://jupyter.org) - a document made of _cells_. Each cell can contain code written in Python or explanations in plain English. You can execute code cells and view the results, e.g., numbers, messages, graphs, tables, files, etc., instantly within the notebook. Jupyter is a powerful platform for experimentation and analysis. Don't be afraid to mess around with the code & break things - you'll learn a lot by encountering and fixing errors. You can use the \"Kernel > Restart & Clear Output\" menu option to clear all outputs and start again from the top."
      ]
    },
    {
      "cell_type": "markdown",
      "metadata": {
        "id": "_WkL49YI6KrD"
      },
      "source": [
        "## Branching with `if`, `else` and `elif`\n",
        "\n",
        "One of the most powerful features of programming languages is *branching*: the ability to make decisions and execute a different set of statements based on whether one or more conditions are true.\n",
        "\n",
        "### The `if` statement\n",
        "\n",
        "In Python, branching is implemented using the `if` statement, which is written as follows:\n",
        "\n",
        "```\n",
        "if condition:\n",
        "    statement1\n",
        "    statement2\n",
        "```\n",
        "\n",
        "The `condition` can be a value, variable or expression. If the condition evaluates to `True`, then the statements within the *`if` block* are executed. Notice the four spaces before `statement1`, `statement2`, etc. The spaces inform Python that these statements are associated with the `if` statement above. This technique of structuring code by adding spaces is called *indentation*.\n",
        "\n",
        "> **Indentation**: Python relies heavily on *indentation* (white space before a statement) to define code structure. This makes Python code easy to read and understand. You can run into problems if you don't use indentation properly. Indent your code by placing the cursor at the start of the line and pressing the `Tab` key once to add 4 spaces. Pressing `Tab` again will indent the code further by 4 more spaces, and press `Shift+Tab` will reduce the indentation by 4 spaces.\n",
        "\n",
        "\n",
        "For example, let's write some code to check and print a message if a given number is even."
      ]
    },
    {
      "cell_type": "code",
      "execution_count": null,
      "metadata": {
        "colab": {
          "base_uri": "https://localhost:8080/"
        },
        "id": "NzSQFRG5HwiV",
        "outputId": "4fca057d-9e7f-4967-b4e8-b1a7f0b085ec"
      },
      "outputs": [
        {
          "data": {
            "text/plain": [
              "0"
            ]
          },
          "execution_count": 2,
          "metadata": {},
          "output_type": "execute_result"
        }
      ],
      "source": [
        "2 % 1"
      ]
    },
    {
      "cell_type": "code",
      "execution_count": null,
      "metadata": {
        "id": "CfwruWd-6KrF"
      },
      "outputs": [],
      "source": [
        "a_number = 35"
      ]
    },
    {
      "cell_type": "code",
      "execution_count": null,
      "metadata": {
        "id": "pqD0Ycia6KrH",
        "colab": {
          "base_uri": "https://localhost:8080/"
        },
        "outputId": "2fc011b5-3a5f-447c-9943-ca84de3a2a31"
      },
      "outputs": [
        {
          "output_type": "stream",
          "name": "stdout",
          "text": [
            "We're inside an if block\n",
            "The given number 34 is even.\n"
          ]
        }
      ],
      "source": [
        "if a_number % 2 == 0:\n",
        "    print(\"We're inside an if block\")\n",
        "    print(f\"The given number {a_number} is even.\")"
      ]
    },
    {
      "cell_type": "code",
      "source": [],
      "metadata": {
        "id": "sMo-dddjdZlT"
      },
      "execution_count": null,
      "outputs": []
    },
    {
      "cell_type": "markdown",
      "metadata": {
        "id": "ud-HAWJD6KrI"
      },
      "source": [
        "We use the modulus operator `%` to calculate the remainder from the division of `a_number` by `2`. Then, we use the comparison operator `==` check if the remainder is `0`, which tells us whether the number is even, i.e., divisible by 2.\n",
        "\n",
        "Since `34` is divisible by `2`, the expression `a_number % 2 == 0` evaluates to `True`, so the `print` statement under the `if` statement is executed. Also, note that we are using the string `format` method to include the number within the message.\n",
        "\n",
        "Let's try the above again with an odd number."
      ]
    },
    {
      "cell_type": "code",
      "execution_count": null,
      "metadata": {
        "id": "b9hHUHvw6KrJ"
      },
      "outputs": [],
      "source": [
        "another_number = 31"
      ]
    },
    {
      "cell_type": "code",
      "execution_count": null,
      "metadata": {
        "id": "LvwWRd5l6KrK"
      },
      "outputs": [],
      "source": [
        "if another_number % 2 == 0:\n",
        "    print(f\"The given number {another_number} is even.\")"
      ]
    },
    {
      "cell_type": "markdown",
      "metadata": {
        "id": "8_zv7mez6KrK"
      },
      "source": [
        "As expected, since the condition `another_number % 2 == 0` evaluates to `False`, no message is printed.\n",
        "\n",
        "### The `else` statement\n",
        "\n",
        "We may want to print a different message if the number is not even in the above example. This can be done by adding the `else` statement. It is written as follows:\n",
        "\n",
        "```\n",
        "if condition:\n",
        "    statement1\n",
        "    statement2\n",
        "else:\n",
        "    statement4\n",
        "    statement5\n",
        "\n",
        "```\n",
        "\n",
        "If `condition` evaluates to `True`, the statements in the `if` block are executed. If it evaluates to `False`, the statements in the `else` block are executed."
      ]
    },
    {
      "cell_type": "code",
      "execution_count": null,
      "metadata": {
        "id": "Z5tI4K-M6KrL"
      },
      "outputs": [],
      "source": [
        "a_number = 33"
      ]
    },
    {
      "cell_type": "code",
      "execution_count": null,
      "metadata": {
        "colab": {
          "base_uri": "https://localhost:8080/"
        },
        "id": "b22-WTkz6KrL",
        "outputId": "dc482788-c415-4173-b9d1-489a52f8e3d8"
      },
      "outputs": [
        {
          "output_type": "stream",
          "name": "stdout",
          "text": [
            "The given number 33 is odd.\n"
          ]
        }
      ],
      "source": [
        "if a_number % 2 == 0:\n",
        "    print(f'The given number {a_number} is even.')\n",
        "else:\n",
        "    print(f'The given number {a_number} is odd.')"
      ]
    },
    {
      "cell_type": "code",
      "execution_count": null,
      "metadata": {
        "id": "U60ORVYi6KrM"
      },
      "outputs": [],
      "source": [
        "another_number = 34"
      ]
    },
    {
      "cell_type": "code",
      "execution_count": null,
      "metadata": {
        "colab": {
          "base_uri": "https://localhost:8080/"
        },
        "id": "wuvPFORq6KrM",
        "outputId": "fa48005f-a5ad-4058-ca46-37e65bc7d52f"
      },
      "outputs": [
        {
          "name": "stdout",
          "output_type": "stream",
          "text": [
            "The given number 34 is even.\n"
          ]
        }
      ],
      "source": [
        "if another_number % 2 == 0:\n",
        "    print(f'The given number {another_number} is even.')\n",
        "else:\n",
        "    print(f'The given number {another_number} is odd.')"
      ]
    },
    {
      "cell_type": "markdown",
      "metadata": {
        "id": "LrMTnjWW6KrM"
      },
      "source": [
        "Here's another example, which uses the `in` operator to check membership within a tuple."
      ]
    },
    {
      "cell_type": "code",
      "execution_count": null,
      "metadata": {
        "id": "kHy7nXP-6KrM"
      },
      "outputs": [],
      "source": [
        "the_3_musketeers = ('Athos', 'Porthos', 'Aramis') # [], # () #"
      ]
    },
    {
      "cell_type": "code",
      "execution_count": null,
      "metadata": {
        "id": "Ts3WVf1W6KrN"
      },
      "outputs": [],
      "source": [
        "a_candidate = \"D'Artagnan\""
      ]
    },
    {
      "cell_type": "code",
      "execution_count": null,
      "metadata": {
        "id": "zki73-yvO5Z3"
      },
      "outputs": [],
      "source": [
        "musketeer = \"Aramis\""
      ]
    },
    {
      "cell_type": "code",
      "execution_count": null,
      "metadata": {
        "colab": {
          "base_uri": "https://localhost:8080/"
        },
        "id": "y8-Xmpyk6KrN",
        "outputId": "45e5ef45-4df5-40e5-f83e-a774d60ebf5e"
      },
      "outputs": [
        {
          "output_type": "stream",
          "name": "stdout",
          "text": [
            "Aramis is a musketeer\n"
          ]
        }
      ],
      "source": [
        "if musketeer in the_3_musketeers:\n",
        "    print(f\"{musketeer} is a musketeer\")\n",
        "else:\n",
        "    print(f\"{musketeer} is not a musketeer\")"
      ]
    },
    {
      "cell_type": "markdown",
      "metadata": {
        "id": "HrsucDEF6KrN"
      },
      "source": [
        "### The `elif` statement\n",
        "\n",
        "Python also provides an `elif` statement (short for \"else if\") to chain a series of conditional blocks. The conditions are evaluated one by one. For the first condition that evaluates to `True`, the block of statements below it is executed. The remaining conditions and statements are not evaluated. So, in an `if`, `elif`, `elif`... chain, at most one block of statements is executed, the one corresponding to the first condition that evaluates to `True`."
      ]
    },
    {
      "cell_type": "code",
      "execution_count": null,
      "metadata": {
        "id": "84UalQ6W6KrN"
      },
      "outputs": [],
      "source": [
        "today = 'today'"
      ]
    },
    {
      "cell_type": "code",
      "execution_count": null,
      "metadata": {
        "colab": {
          "base_uri": "https://localhost:8080/"
        },
        "id": "Wvqedym_6KrN",
        "outputId": "bc377626-547e-463a-daab-f29375680e3d"
      },
      "outputs": [
        {
          "output_type": "stream",
          "name": "stdout",
          "text": [
            "this is not a day in the week\n"
          ]
        }
      ],
      "source": [
        "if today == 'Sunday':\n",
        "    print(\"Today is the day of the sun.\")\n",
        "elif today == 'Monday':\n",
        "    print(\"Today is the day of the moon.\")\n",
        "elif today == 'Tuesday':\n",
        "    print(\"Today is the day of Tyr, the god of war.\")\n",
        "elif today == 'Wednesday':\n",
        "    print(f\"{today} is the day of Odin, the supreme diety.\")\n",
        "elif today == 'Thursday':\n",
        "    print(\"Today is the day of Thor, the god of thunder.\")\n",
        "elif today == 'Friday':\n",
        "    print(\"Today is the day of Frigga, the goddess of beauty.\")\n",
        "elif today == 'Saturday':\n",
        "    print(\"Today is the day of Saturn, the god of fun and feasting.\")\n",
        "else:\n",
        "  print('this is not a day in the week')"
      ]
    },
    {
      "cell_type": "markdown",
      "metadata": {
        "id": "10H_dPqY6KrO"
      },
      "source": [
        "In the above example, the first 3 conditions evaluate to `False`, so none of the first 3 messages are printed. The fourth condition evaluates to `True`, so the corresponding message is printed. The remaining conditions are skipped. Try changing the value of `today` above and re-executing the cells to print all the different messages.\n",
        "\n",
        "\n",
        "To verify that the remaining conditions are skipped, let us try another example."
      ]
    },
    {
      "cell_type": "code",
      "execution_count": null,
      "metadata": {
        "colab": {
          "base_uri": "https://localhost:8080/"
        },
        "id": "IkULxZV-SCtP",
        "outputId": "174097bf-f5c9-43f5-e6d5-87a03c9697dd"
      },
      "outputs": [
        {
          "name": "stdout",
          "output_type": "stream",
          "text": [
            "The value of x is: 5\n"
          ]
        }
      ],
      "source": [
        "x = 5\n",
        "print('The value of x is:', x)"
      ]
    },
    {
      "cell_type": "code",
      "execution_count": null,
      "metadata": {
        "colab": {
          "base_uri": "https://localhost:8080/",
          "height": 35
        },
        "id": "v3TX_lvtQX8T",
        "outputId": "a278467c-afc1-4182-c57b-0967f69433e6"
      },
      "outputs": [
        {
          "data": {
            "application/vnd.google.colaboratory.intrinsic+json": {
              "type": "string"
            },
            "text/plain": [
              "'5'"
            ]
          },
          "execution_count": 18,
          "metadata": {},
          "output_type": "execute_result"
        }
      ],
      "source": [
        "str(x)"
      ]
    },
    {
      "cell_type": "code",
      "execution_count": null,
      "metadata": {
        "colab": {
          "base_uri": "https://localhost:8080/",
          "height": 35
        },
        "id": "LiPKOPWWQs9V",
        "outputId": "ef02f1d8-82e9-4724-c5fe-2c51c438f542"
      },
      "outputs": [
        {
          "data": {
            "application/vnd.google.colaboratory.intrinsic+json": {
              "type": "string"
            },
            "text/plain": [
              "'today is Monday'"
            ]
          },
          "execution_count": 19,
          "metadata": {},
          "output_type": "execute_result"
        }
      ],
      "source": [
        "'today is ' + 'Monday'"
      ]
    },
    {
      "cell_type": "code",
      "execution_count": null,
      "metadata": {
        "colab": {
          "base_uri": "https://localhost:8080/"
        },
        "id": "K2FVmQ9tSZqG",
        "outputId": "7bb5d0f4-52e4-4243-b907-882785bfede4"
      },
      "outputs": [
        {
          "name": "stdout",
          "output_type": "stream",
          "text": [
            "The value of x is: 5\n"
          ]
        }
      ],
      "source": [
        "print('The value of x is: '+ str(x))"
      ]
    },
    {
      "cell_type": "code",
      "execution_count": null,
      "metadata": {
        "colab": {
          "base_uri": "https://localhost:8080/"
        },
        "id": "6MYSqmYvS2D1",
        "outputId": "bd2d271b-c330-4ddf-b789-af1eed4d9b2b"
      },
      "outputs": [
        {
          "name": "stdout",
          "output_type": "stream",
          "text": [
            "The value of x is 5\n"
          ]
        }
      ],
      "source": [
        "print(f'The value of x is {x}') #formatted-string/f-string"
      ]
    },
    {
      "cell_type": "code",
      "execution_count": null,
      "metadata": {
        "id": "7FZwe2bpTQ45"
      },
      "outputs": [],
      "source": [
        "y = 6\n",
        "z = 7"
      ]
    },
    {
      "cell_type": "code",
      "execution_count": null,
      "metadata": {
        "colab": {
          "base_uri": "https://localhost:8080/"
        },
        "id": "Hd5NEeqJTE51",
        "outputId": "9e4e4896-3d0a-474e-ca51-f9d34d797a27"
      },
      "outputs": [
        {
          "name": "stdout",
          "output_type": "stream",
          "text": [
            "The value of x is 5 7 6\n"
          ]
        }
      ],
      "source": []
    },
    {
      "cell_type": "code",
      "execution_count": null,
      "metadata": {
        "id": "MNMSksoBCpGO"
      },
      "outputs": [],
      "source": [
        "a_number = 6"
      ]
    },
    {
      "cell_type": "code",
      "execution_count": null,
      "metadata": {
        "colab": {
          "base_uri": "https://localhost:8080/"
        },
        "id": "oYFluS7G6KrO",
        "outputId": "4cfd4afc-d906-40fa-a768-4e4c94902f10"
      },
      "outputs": [
        {
          "name": "stdout",
          "output_type": "stream",
          "text": [
            "6 is divisible by 2\n"
          ]
        }
      ],
      "source": [
        "if a_number % 2 == 0:\n",
        "    print('{} is divisible by 2'.format(a_number))\n",
        "elif a_number % 3 == 0:\n",
        "    print('{} is divisible by 3'.format(a_number))\n",
        "elif a_number % 5 == 0:\n",
        "    print('{} is divisible by 5'.format(a_number))\n",
        "elif a_number % 7 == 0:\n",
        "    print('{} is divisible by 7'.format(a_number))\n",
        "else:\n",
        "  print(f'{a_number} is not divisivle by 2, 3, 5 and 7')"
      ]
    },
    {
      "cell_type": "code",
      "execution_count": null,
      "metadata": {
        "colab": {
          "base_uri": "https://localhost:8080/",
          "height": 52
        },
        "id": "NQ_Li_4qEdwq",
        "outputId": "71bfb289-8827-4538-8369-d05eff65c3bc"
      },
      "outputs": [
        {
          "name": "stdout",
          "output_type": "stream",
          "text": [
            "enter number here:how are you?\n"
          ]
        },
        {
          "data": {
            "application/vnd.google.colaboratory.intrinsic+json": {
              "type": "string"
            },
            "text/plain": [
              "'how are you?'"
            ]
          },
          "execution_count": 18,
          "metadata": {},
          "output_type": "execute_result"
        }
      ],
      "source": [
        "input('enter number here:')"
      ]
    },
    {
      "cell_type": "code",
      "execution_count": null,
      "metadata": {
        "colab": {
          "base_uri": "https://localhost:8080/"
        },
        "id": "Nk7OOIuN6KrO",
        "outputId": "4b51c107-d661-4c47-e322-a4e226fd498b"
      },
      "outputs": [
        {
          "name": "stdout",
          "output_type": "stream",
          "text": [
            "enter number here: 5\n"
          ]
        }
      ],
      "source": [
        "a_number = int(input('enter number here: '))"
      ]
    },
    {
      "cell_type": "markdown",
      "metadata": {
        "id": "0cqLz_Xu6KrO"
      },
      "source": [
        "Note that the message `15 is divisible by 5` is not printed because the condition `a_number % 5 == 0` isn't evaluated, since the previous condition `a_number % 3 == 0` evaluates to `True`. This is the key difference between using a chain of `if`, `elif`, `elif`... statements vs. a chain of `if` statements, where each condition is evaluated independently."
      ]
    },
    {
      "cell_type": "code",
      "execution_count": null,
      "metadata": {
        "colab": {
          "base_uri": "https://localhost:8080/"
        },
        "id": "0gAshevO6KrO",
        "outputId": "fc051bc6-d16d-4ffe-ab40-aa998ff094d8"
      },
      "outputs": [
        {
          "name": "stdout",
          "output_type": "stream",
          "text": [
            "6 is divisible by 2\n",
            "6 is divisible by 3\n"
          ]
        }
      ],
      "source": [
        "if a_number % 2 == 0:\n",
        "    print('{} is divisible by 2'.format(a_number))\n",
        "if a_number % 3 == 0:\n",
        "    print('{} is divisible by 3'.format(a_number))\n",
        "if a_number % 5 == 0:\n",
        "    print('{} is divisible by 5'.format(a_number))\n",
        "if a_number % 7 == 0:\n",
        "    print('{} is divisible by 7'.format(a_number))"
      ]
    },
    {
      "cell_type": "markdown",
      "metadata": {
        "id": "8CZVh6hh6KrP"
      },
      "source": [
        "### Using `if`, `elif`, and `else` together\n",
        "\n",
        "You can also include an `else` statement at the end of a chain of `if`, `elif`... statements. This code within the `else` block is evaluated when none of the conditions hold true."
      ]
    },
    {
      "cell_type": "code",
      "source": [
        "name = \"aralola\"\n",
        "print(\"my name is\", name) # comma seperation method\n",
        "print(f\"my name is {name}\") # formatted string\n",
        "print(\"my name is {}\".format(name)) #format method"
      ],
      "metadata": {
        "colab": {
          "base_uri": "https://localhost:8080/"
        },
        "id": "bjvebLyCrvHp",
        "outputId": "427dd3f1-e21a-45c3-e005-415915eeaffc"
      },
      "execution_count": null,
      "outputs": [
        {
          "output_type": "stream",
          "name": "stdout",
          "text": [
            "my name is aralola\n",
            "my name is aralola\n",
            "my name is aralola\n"
          ]
        }
      ]
    },
    {
      "cell_type": "code",
      "execution_count": null,
      "metadata": {
        "id": "Nzfa_cuh6KrP"
      },
      "outputs": [],
      "source": [
        "a_number = 49"
      ]
    },
    {
      "cell_type": "code",
      "execution_count": null,
      "metadata": {
        "id": "LlLzY3rs6KrP",
        "outputId": "9fd7d126-cbca-4131-b501-010a7eaaf796"
      },
      "outputs": [
        {
          "name": "stdout",
          "output_type": "stream",
          "text": [
            "All checks failed!\n",
            "49 is not divisible by 2, 3 or 5\n"
          ]
        }
      ],
      "source": [
        "if a_number % 2 == 0:\n",
        "    print('{} is divisible by 2'.format(a_number))\n",
        "elif a_number % 3 == 0:\n",
        "    print('{} is divisible by 3'.format(a_number))\n",
        "elif a_number % 5 == 0:\n",
        "    print('{} is divisible by 5'.format(a_number))\n",
        "else:\n",
        "    print('All checks failed!')\n",
        "    print('{} is not divisible by 2, 3 or 5'.format(a_number))"
      ]
    },
    {
      "cell_type": "markdown",
      "metadata": {
        "id": "YDC-zxnW6KrP"
      },
      "source": [
        "Conditions can also be combined using the logical operators `and`, `or` and `not`. Logical operators are explained in detail in the [first tutorial](https://jovian.ml/aakashns/first-steps-with-python/v/4#C49)."
      ]
    },
    {
      "cell_type": "code",
      "execution_count": null,
      "metadata": {
        "id": "2Y4uw8kx6KrQ"
      },
      "outputs": [],
      "source": [
        "a_number = 12"
      ]
    },
    {
      "cell_type": "code",
      "execution_count": null,
      "metadata": {
        "colab": {
          "base_uri": "https://localhost:8080/"
        },
        "id": "EAsw1Ng56KrQ",
        "outputId": "ec35cbde-3fef-4c5c-baeb-73fe550c5e40"
      },
      "outputs": [
        {
          "name": "stdout",
          "output_type": "stream",
          "text": [
            "The number 12 is not divisible by 5\n"
          ]
        }
      ],
      "source": [
        "if a_number % 3 == 0 and a_number % 5 == 0:\n",
        "    print(\"The number {} is divisible by 3 and 5\".format(a_number))\n",
        "elif not( a_number % 3 == 0 and a_number % 5 == 0):\n",
        "    print(\"The number {} is not divisible by 3 and 5\".format(a_number))"
      ]
    },
    {
      "cell_type": "markdown",
      "metadata": {
        "id": "8HnQYLXz6KrQ"
      },
      "source": [
        "### Non-Boolean Conditions\n",
        "\n",
        "Note that conditions do not necessarily have to be booleans. In fact, a condition can be any value. The value is converted into a boolean automatically using the `bool` operator. This means that falsy values like `0`, `''`, `{}`, `[]`, etc. evaluate to `False` and all other values evaluate to `True`."
      ]
    },
    {
      "cell_type": "code",
      "execution_count": null,
      "metadata": {
        "id": "pTdxFvHt6KrQ",
        "outputId": "a5182cbd-8be8-4549-8a72-f0d635323e6e"
      },
      "outputs": [
        {
          "name": "stdout",
          "output_type": "stream",
          "text": [
            "The condition evaluted to False\n"
          ]
        }
      ],
      "source": [
        "if '':\n",
        "    print('The condition evaluted to True')\n",
        "else:\n",
        "    print('The condition evaluted to False')"
      ]
    },
    {
      "cell_type": "code",
      "execution_count": null,
      "metadata": {
        "id": "xjApM7kL6KrR",
        "outputId": "e546e2a0-024c-45c5-b795-dfdcdb7513ce"
      },
      "outputs": [
        {
          "name": "stdout",
          "output_type": "stream",
          "text": [
            "The condition evaluted to True\n"
          ]
        }
      ],
      "source": [
        "if 'Hello':\n",
        "    print('The condition evaluted to True')\n",
        "else:\n",
        "    print('The condition evaluted to False')"
      ]
    },
    {
      "cell_type": "code",
      "execution_count": null,
      "metadata": {
        "id": "oIyXW-h06KrR",
        "outputId": "c48b9d3c-a219-40f1-f1a4-305f966fe0e0"
      },
      "outputs": [
        {
          "name": "stdout",
          "output_type": "stream",
          "text": [
            "The condition evaluted to True\n"
          ]
        }
      ],
      "source": [
        "if { 'a': 34 }:\n",
        "    print('The condition evaluted to True')\n",
        "else:\n",
        "    print('The condition evaluted to False')"
      ]
    },
    {
      "cell_type": "code",
      "execution_count": null,
      "metadata": {
        "id": "KqHytRYz6KrR",
        "outputId": "b1bb5d75-8998-4cbb-fadb-b5b0008a4671"
      },
      "outputs": [
        {
          "name": "stdout",
          "output_type": "stream",
          "text": [
            "The condition evaluted to False\n"
          ]
        }
      ],
      "source": [
        "if None:\n",
        "    print('The condition evaluted to True')\n",
        "else:\n",
        "    print('The condition evaluted to False')"
      ]
    },
    {
      "cell_type": "markdown",
      "metadata": {
        "id": "OW0o0rv86KrS"
      },
      "source": [
        "### Nested conditional statements\n",
        "\n",
        "The code inside an `if` block can also include an `if` statement inside it. This pattern is called `nesting` and is used to check for another condition after a particular condition holds true."
      ]
    },
    {
      "cell_type": "code",
      "execution_count": null,
      "metadata": {
        "id": "0m0j3htc6KrS"
      },
      "outputs": [],
      "source": [
        "a_number = 9"
      ]
    },
    {
      "cell_type": "code",
      "execution_count": null,
      "metadata": {
        "colab": {
          "base_uri": "https://localhost:8080/"
        },
        "id": "n-fMZO3k6KrY",
        "outputId": "b11dfb01-ef0c-4792-81c4-0ec717cd04d7"
      },
      "outputs": [
        {
          "name": "stdout",
          "output_type": "stream",
          "text": [
            "9 is odd\n",
            "9 is not divisible by 5\n"
          ]
        }
      ],
      "source": [
        "if a_number % 2 == 0:\n",
        "    print(\"{} is even\".format(a_number))\n",
        "    if a_number % 3 == 0:\n",
        "        print(\"{} is also divisible by 3\".format(a_number))\n",
        "    else:\n",
        "        print(\"{} is not divisible by 3\".format(a_number))\n",
        "else:\n",
        "    print(\"{} is odd\".format(a_number))\n",
        "    if a_number % 5 == 0:\n",
        "        print(\"{} is also divisible by 5\".format(a_number))\n",
        "    else:\n",
        "        print(\"{} is not divisible by 5\".format(a_number))"
      ]
    },
    {
      "cell_type": "markdown",
      "metadata": {
        "id": "mPVkwLkW6KrY"
      },
      "source": [
        "Notice how the `print` statements are indented by 8 spaces to indicate that they are part of the inner `if`/`else` blocks.\n",
        "\n",
        "> Nested `if`, `else` statements are often confusing to read and prone to human error. It's good to avoid nesting whenever possible, or limit the nesting to 1 or 2 levels."
      ]
    },
    {
      "cell_type": "markdown",
      "metadata": {
        "id": "K3ncWWNJ6KrY"
      },
      "source": [
        "### Shorthand `if` conditional expression\n",
        "\n",
        "A frequent use case of the `if` statement involves testing a condition and setting a variable's value based on the condition."
      ]
    },
    {
      "cell_type": "code",
      "execution_count": null,
      "metadata": {
        "colab": {
          "base_uri": "https://localhost:8080/"
        },
        "id": "4-8z2aIP6KrY",
        "outputId": "a1987686-4ac7-45de-ef31-5281e12a3149"
      },
      "outputs": [
        {
          "name": "stdout",
          "output_type": "stream",
          "text": [
            "The number 13 is odd.\n"
          ]
        }
      ],
      "source": [
        "a_number = 13\n",
        "if a_number % 2 == 0:\n",
        "    parity = 'even'\n",
        "else:\n",
        "    parity = 'odd'\n",
        "print('The number {} is {}.'.format(a_number, parity))"
      ]
    },
    {
      "cell_type": "code",
      "execution_count": null,
      "metadata": {
        "colab": {
          "base_uri": "https://localhost:8080/"
        },
        "id": "tgVO8d7P3lYw",
        "outputId": "2a063a0a-c39f-4ea4-b294-078a79d45cbd"
      },
      "outputs": [
        {
          "name": "stdout",
          "output_type": "stream",
          "text": [
            "The number is  odd\n"
          ]
        }
      ],
      "source": [
        "print('The number is ', parity)"
      ]
    },
    {
      "cell_type": "code",
      "execution_count": null,
      "metadata": {
        "colab": {
          "base_uri": "https://localhost:8080/"
        },
        "id": "FjYmEywA3y-V",
        "outputId": "fc8ca696-cd37-49e7-8667-2984c8294754"
      },
      "outputs": [
        {
          "name": "stdout",
          "output_type": "stream",
          "text": [
            "The number is odd\n"
          ]
        }
      ],
      "source": [
        "# formatted strings\n",
        "print(f'The number is {parity}')"
      ]
    },
    {
      "cell_type": "code",
      "execution_count": null,
      "metadata": {
        "colab": {
          "base_uri": "https://localhost:8080/"
        },
        "id": "onN9BdshZXYo",
        "outputId": "69353dee-9470-4fcc-cb7a-1836e7fb6b00"
      },
      "outputs": [
        {
          "name": "stdout",
          "output_type": "stream",
          "text": [
            "The number 13 is odd.\n"
          ]
        }
      ],
      "source": [
        "today = 'even' if a_number % 2 == 0 else 'odd'\n",
        "print('The number {} is {}.'.format(a_number, today))"
      ]
    },
    {
      "cell_type": "markdown",
      "metadata": {
        "id": "dL7rKxww6KrZ"
      },
      "source": [
        "Python provides a shorter syntax, which allows writing such conditions in a single line of code. It is known as a *conditional expression*, sometimes also referred to as a *ternary operator*. It has the following syntax:\n",
        "\n",
        "```\n",
        "x = true_value if condition else false_value\n",
        "```\n",
        "\n",
        "It has the same behavior as the following `if`-`else` block:\n",
        "\n",
        "```\n",
        "if condition:\n",
        "    x = true_value\n",
        "else:\n",
        "    x = false_value\n",
        "```\n",
        "\n",
        "Let's try it out for the example above."
      ]
    },
    {
      "cell_type": "code",
      "execution_count": null,
      "metadata": {
        "colab": {
          "base_uri": "https://localhost:8080/"
        },
        "id": "JMjFhlVubJ43",
        "outputId": "f0073dfb-061f-43c9-d141-646521617494"
      },
      "outputs": [
        {
          "name": "stdout",
          "output_type": "stream",
          "text": [
            "5\n"
          ]
        }
      ],
      "source": [
        "if 2 > 5:\n",
        "  x = 10\n",
        "else:\n",
        "  x = 5\n",
        "print(x)"
      ]
    },
    {
      "cell_type": "code",
      "execution_count": null,
      "metadata": {
        "colab": {
          "base_uri": "https://localhost:8080/"
        },
        "id": "8DtzA_mjb_ie",
        "outputId": "d5c6c271-bf62-409c-987e-5f12e828c29a"
      },
      "outputs": [
        {
          "name": "stdout",
          "output_type": "stream",
          "text": [
            "5\n"
          ]
        }
      ],
      "source": [
        "x = 10 if 2 > 5 else 5\n",
        "print(x)"
      ]
    },
    {
      "cell_type": "code",
      "execution_count": null,
      "metadata": {
        "id": "nR6-__oT6KrZ"
      },
      "outputs": [],
      "source": [
        "parity = 'even' if a_number % 2 == 0 else 'odd'"
      ]
    },
    {
      "cell_type": "code",
      "execution_count": null,
      "metadata": {
        "id": "AAtDwJj56KrZ",
        "outputId": "c3ce0c52-2edc-43c3-bbce-4136daf1fbcc"
      },
      "outputs": [
        {
          "name": "stdout",
          "output_type": "stream",
          "text": [
            "The number 13 is odd.\n"
          ]
        }
      ],
      "source": [
        "print('The number {} is {}.'.format(a_number, parity))"
      ]
    },
    {
      "cell_type": "markdown",
      "metadata": {
        "id": "Dh1v4gd06KrZ"
      },
      "source": [
        "### Statements and Expressions\n",
        "\n",
        "The conditional expression highlights an essential distinction between *statements* and *expressions* in Python.\n",
        "\n",
        "> **Statements**: A statement is an instruction that can be executed. Every line of code we have written so far is a statement e.g. assigning a variable, calling a function, conditional statements using `if`, `else`, and `elif`, loops using `for` and `while` etc.\n",
        "\n",
        "> **Expressions**: An expression is some code that evaluates to a value. Examples include values of different data types, arithmetic expressions, conditions, variables, function calls, conditional expressions, etc.\n",
        "\n",
        "\n",
        "Most expressions can be executed as statements, but not all statements are expressions. For example, the regular `if` statement is not an expression since it does not evaluate to a value. It merely performs some branching in the code. Similarly, loops and function definitions are not expressions (we'll learn more about these in later sections).\n",
        "\n",
        "As a rule of thumb, an expression is anything that can appear on the right side of the assignment operator `=`. You can use this as a test for checking whether something is an expression or not. You'll get a syntax error if you try to assign something that is not an expression."
      ]
    },
    {
      "cell_type": "code",
      "execution_count": null,
      "metadata": {
        "id": "Bvq6xL476Kra",
        "outputId": "57c1f7c5-b2e8-4dd9-d5c8-bc51453faaec"
      },
      "outputs": [
        {
          "ename": "SyntaxError",
          "evalue": "invalid syntax (<ipython-input-30-f24978c5423e>, line 2)",
          "output_type": "error",
          "traceback": [
            "\u001b[0;36m  File \u001b[0;32m\"<ipython-input-30-f24978c5423e>\"\u001b[0;36m, line \u001b[0;32m2\u001b[0m\n\u001b[0;31m    result = if a_number % 2 == 0:\u001b[0m\n\u001b[0m             ^\u001b[0m\n\u001b[0;31mSyntaxError\u001b[0m\u001b[0;31m:\u001b[0m invalid syntax\n"
          ]
        }
      ],
      "source": [
        "# if statement\n",
        "result = if a_number % 2 == 0:\n",
        "    'even'\n",
        "else:\n",
        "    'odd'"
      ]
    },
    {
      "cell_type": "code",
      "execution_count": null,
      "metadata": {
        "id": "IYPehkMg6Kra"
      },
      "outputs": [],
      "source": [
        "# if expression\n",
        "result = 'even' if a_number % 2 == 0 else 'odd'"
      ]
    },
    {
      "cell_type": "code",
      "execution_count": null,
      "metadata": {
        "colab": {
          "base_uri": "https://localhost:8080/"
        },
        "id": "moZvzsx8TQMq",
        "outputId": "855f74dd-7b76-4eac-abfb-1c10caa71dbb"
      },
      "outputs": [
        {
          "name": "stdout",
          "output_type": "stream",
          "text": [
            "even\n"
          ]
        }
      ],
      "source": [
        "print(result)"
      ]
    },
    {
      "cell_type": "markdown",
      "metadata": {
        "id": "vd_qZSJd6Kra"
      },
      "source": [
        "### The `pass` statement\n",
        "\n",
        "`if` statements cannot be empty, there must be at least one statement in every `if` and `elif` block. You can use the `pass` statement to do nothing and avoid getting an error."
      ]
    },
    {
      "cell_type": "code",
      "execution_count": null,
      "metadata": {
        "id": "E5dC89u26Krb"
      },
      "outputs": [],
      "source": [
        "a_number = 8"
      ]
    },
    {
      "cell_type": "code",
      "execution_count": null,
      "metadata": {
        "id": "V5ewp7A86Krb",
        "outputId": "5ab447f2-9890-4321-a5ae-fc3f3b52a4a8"
      },
      "outputs": [
        {
          "ename": "IndentationError",
          "evalue": "expected an indented block (<ipython-input-33-77268dd66617>, line 2)",
          "output_type": "error",
          "traceback": [
            "\u001b[0;36m  File \u001b[0;32m\"<ipython-input-33-77268dd66617>\"\u001b[0;36m, line \u001b[0;32m2\u001b[0m\n\u001b[0;31m    elif a_number % 3 == 0:\u001b[0m\n\u001b[0m    ^\u001b[0m\n\u001b[0;31mIndentationError\u001b[0m\u001b[0;31m:\u001b[0m expected an indented block\n"
          ]
        }
      ],
      "source": [
        "if a_number % 2 == 0:\n",
        "\n",
        "elif a_number % 3 == 0:\n",
        "    print(f'{a_number} is divisible by 3')"
      ]
    },
    {
      "cell_type": "code",
      "execution_count": null,
      "metadata": {
        "id": "v3UpHlx06Krb"
      },
      "outputs": [],
      "source": [
        " if a_number % 2 == 0:\n",
        "    pass\n",
        "elif a_number % 3 == 0:\n",
        "    print('{} is divisible by 3 but not divisible by 2'.format(a_number))"
      ]
    },
    {
      "cell_type": "markdown",
      "metadata": {
        "id": "t_kWJIeH6Krb"
      },
      "source": [
        "### Save and upload your notebook\n",
        "\n",
        "Whether you're running this Jupyter notebook online or on your computer, it's essential to save your work from time to time. You can continue working on a saved notebook later or share it with friends and colleagues to let them execute your code. [Jovian](https://www.jovian.ai) offers an easy way of saving and sharing your Jupyter notebooks online."
      ]
    },
    {
      "cell_type": "code",
      "execution_count": null,
      "metadata": {
        "id": "_hzObBNa6Krb"
      },
      "outputs": [],
      "source": [
        "!pip install jovian --upgrade --quiet"
      ]
    },
    {
      "cell_type": "code",
      "execution_count": null,
      "metadata": {
        "id": "a_HJOuAN6Krc"
      },
      "outputs": [],
      "source": [
        "import jovian"
      ]
    },
    {
      "cell_type": "code",
      "execution_count": null,
      "metadata": {
        "id": "HjqBgMfY6Krc",
        "outputId": "de32771a-007f-4176-8b50-0fba8160ae63"
      },
      "outputs": [
        {
          "data": {
            "application/javascript": [
              "window.require && require([\"base/js/namespace\"],function(Jupyter){Jupyter.notebook.save_checkpoint()})"
            ],
            "text/plain": [
              "<IPython.core.display.Javascript object>"
            ]
          },
          "metadata": {},
          "output_type": "display_data"
        },
        {
          "name": "stdout",
          "output_type": "stream",
          "text": [
            "[jovian] Attempting to save notebook..\u001b[0m\n",
            "[jovian] Updating notebook \"aakashns/python-branching-and-loops\" on https://jovian.ai/\u001b[0m\n",
            "[jovian] Uploading notebook..\u001b[0m\n",
            "[jovian] Capturing environment..\u001b[0m\n",
            "[jovian] Committed successfully! https://jovian.ai/aakashns/python-branching-and-loops\u001b[0m\n"
          ]
        },
        {
          "data": {
            "text/plain": [
              "'https://jovian.ai/aakashns/python-branching-and-loops'"
            ]
          },
          "execution_count": 37,
          "metadata": {},
          "output_type": "execute_result"
        }
      ],
      "source": [
        "jovian.commit(project='python-branching-and-loops')"
      ]
    },
    {
      "cell_type": "markdown",
      "metadata": {
        "id": "W1tAx6gI6Krc"
      },
      "source": [
        "The first time you run `jovian.commit`, you may be asked to provide an API Key to securely upload the notebook to your Jovian account. You can get the API key from your [Jovian profile page](https://jovian.ai) after logging in / signing up.\n",
        "\n",
        "\n",
        "`jovian.commit` uploads the notebook to your Jovian account, captures the Python environment, and creates a shareable link for your notebook, as shown above. You can use this link to share your work and let anyone (including you) run your notebooks and reproduce your work."
      ]
    },
    {
      "cell_type": "markdown",
      "metadata": {
        "id": "BO-iYYX06Krd"
      },
      "source": [
        "## Iteration with `while` loops\n",
        "\n",
        "Another powerful feature of programming languages, closely related to branching, is running one or more statements multiple times. This feature is often referred to as *iteration* on *looping*, and there are two ways to do this in Python: using `while` loops and `for` loops.\n",
        "\n",
        "`while` loops have the following syntax:\n",
        "\n",
        "```\n",
        "while condition:\n",
        "    statement(s)\n",
        "```\n",
        "\n",
        "Statements in the code block under `while` are executed repeatedly as long as the `condition` evaluates to `True`. Generally, one of the statements under `while` makes some change to a variable that causes the condition to evaluate to `False` after a certain number of iterations.\n",
        "\n",
        "Let's try to calculate the factorial of `100` using a `while` loop. The factorial of a number `n` is the product (multiplication) of all the numbers from `1` to `n`, i.e., `1*2*3*...*(n-2)*(n-1)*n`."
      ]
    },
    {
      "cell_type": "code",
      "execution_count": null,
      "metadata": {
        "id": "DZrlZjNb6Krd",
        "outputId": "19b4ff46-5beb-4aa2-abf4-f0887fb6884b"
      },
      "outputs": [
        {
          "name": "stdout",
          "output_type": "stream",
          "text": [
            "The factorial of 100 is: 93326215443944152681699238856266700490715968264381621468592963895217599993229915608941463976156518286253697920827223758251185210916864000000000000000000000000\n"
          ]
        }
      ],
      "source": [
        "result = 1\n",
        "i = 1\n",
        "\n",
        "while i <= 100:\n",
        "    result = result * i # 1*1 = 1\n",
        "    i = i+1 # 1+1=2\n",
        "\n",
        "print('The factorial of 100 is: {}'.format(result))"
      ]
    },
    {
      "cell_type": "markdown",
      "metadata": {
        "id": "3vy0x3TT6Krd"
      },
      "source": [
        "Here's how the above code works:\n",
        "\n",
        "* We initialize two variables, `result` and, `i`. `result` will contain the final outcome. And `i` is used to keep track of the next number to be multiplied with `result`. Both are initialized to 1 (can you explain why?)\n",
        "\n",
        "* The condition `i <= 100` holds true (since `i` is initially `1`), so the `while` block is executed.\n",
        "\n",
        "* The `result` is updated to `result * i`, `i` is increased by `1` and it now has the value `2`.\n",
        "\n",
        "* At this point, the condition `i <= 100` is evaluated again. Since it continues to hold true, `result` is again updated to `result * i`, and `i` is increased to `3`.\n",
        "\n",
        "* This process is repeated till the condition becomes false, which happens when `i` holds the value `101`. Once the condition evaluates to `False`, the execution of the loop ends, and the `print` statement below it is executed.\n",
        "\n",
        "Can you see why `result` contains the value of the factorial of 100 at the end? If not, try adding `print` statements inside the `while` block to print `result` and `i` in each iteration.\n",
        "\n",
        "\n",
        "> Iteration is a powerful technique because it gives computers a massive advantage over human beings in performing thousands or even millions of repetitive operations really fast. With just 4-5 lines of code, we were able to multiply 100 numbers almost instantly. The same code can be used to multiply a thousand numbers (just change the condition to `i <= 1000`) in a few seconds.\n",
        "\n",
        "You can check how long a cell takes to execute by adding the *magic* command `%%time` at the top of a cell. Try checking how long it takes to compute the factorial of `100`, `1000`, `10000`, `100000`, etc."
      ]
    },
    {
      "cell_type": "code",
      "execution_count": null,
      "metadata": {
        "colab": {
          "base_uri": "https://localhost:8080/"
        },
        "id": "6IlEMOiZYyaG",
        "outputId": "7e3d99d0-ac1b-4302-956c-160ad66d8eec"
      },
      "outputs": [
        {
          "name": "stderr",
          "output_type": "stream",
          "text": [
            "UsageError: Line magic function `%sql` not found.\n"
          ]
        }
      ],
      "source": [
        "%sql FROM * SELECT"
      ]
    },
    {
      "cell_type": "code",
      "execution_count": 1,
      "metadata": {
        "colab": {
          "base_uri": "https://localhost:8080/"
        },
        "id": "Mllb2wHb6Krd",
        "outputId": "30e6f91e-9367-4157-cff8-487e78ce08a2"
      },
      "outputs": [
        {
          "output_type": "stream",
          "name": "stdout",
          "text": [
            "The Factorial of 1000 is:  402387260077093773543702433923003985719374864210714632543799910429938512398629020592044208486969404800479988610197196058631666872994808558901323829669944590997424504087073759918823627727188732519779505950995276120874975462497043601418278094646496291056393887437886487337119181045825783647849977012476632889835955735432513185323958463075557409114262417474349347553428646576611667797396668820291207379143853719588249808126867838374559731746136085379534524221586593201928090878297308431392844403281231558611036976801357304216168747609675871348312025478589320767169132448426236131412508780208000261683151027341827977704784635868170164365024153691398281264810213092761244896359928705114964975419909342221566832572080821333186116811553615836546984046708975602900950537616475847728421889679646244945160765353408198901385442487984959953319101723355556602139450399736280750137837615307127761926849034352625200015888535147331611702103968175921510907788019393178114194545257223865541461062892187960223838971476088506276862967146674697562911234082439208160153780889893964518263243671616762179168909779911903754031274622289988005195444414282012187361745992642956581746628302955570299024324153181617210465832036786906117260158783520751516284225540265170483304226143974286933061690897968482590125458327168226458066526769958652682272807075781391858178889652208164348344825993266043367660176999612831860788386150279465955131156552036093988180612138558600301435694527224206344631797460594682573103790084024432438465657245014402821885252470935190620929023136493273497565513958720559654228749774011413346962715422845862377387538230483865688976461927383814900140767310446640259899490222221765904339901886018566526485061799702356193897017860040811889729918311021171229845901641921068884387121855646124960798722908519296819372388642614839657382291123125024186649353143970137428531926649875337218940694281434118520158014123344828015051399694290153483077644569099073152433278288269864602789864321139083506217095002597389863554277196742822248757586765752344220207573630569498825087968928162753848863396909959826280956121450994871701244516461260379029309120889086942028510640182154399457156805941872748998094254742173582401063677404595741785160829230135358081840096996372524230560855903700624271243416909004153690105933983835777939410970027753472000000000000000000000000000000000000000000000000000000000000000000000000000000000000000000000000000000000000000000000000000000000000000000000000000000000000000000000000000000000000000000000000000000000000000000000000000000000000000000000000000000000\n",
            "CPU times: user 1.12 ms, sys: 0 ns, total: 1.12 ms\n",
            "Wall time: 1.14 ms\n"
          ]
        }
      ],
      "source": [
        "%%time\n",
        "\n",
        "result = 1\n",
        "i = 1\n",
        "\n",
        "while i <= 1000:\n",
        "    result *= i # same as result = result * i\n",
        "    i += 1 # same as i = i+1\n",
        "\n",
        "print('The Factorial of 1000 is: ', result)"
      ]
    },
    {
      "cell_type": "markdown",
      "metadata": {
        "id": "-1T8mOAS6Kre"
      },
      "source": [
        "Here's another example that uses two `while` loops to create an interesting pattern."
      ]
    },
    {
      "cell_type": "code",
      "execution_count": 2,
      "metadata": {
        "colab": {
          "base_uri": "https://localhost:8080/",
          "height": 36
        },
        "id": "tHMjKRlHVx2A",
        "outputId": "c9d239d3-31af-45aa-9b1b-8ad14887c6e1"
      },
      "outputs": [
        {
          "output_type": "execute_result",
          "data": {
            "text/plain": [
              "'%%'"
            ],
            "application/vnd.google.colaboratory.intrinsic+json": {
              "type": "string"
            }
          },
          "metadata": {},
          "execution_count": 2
        }
      ],
      "source": [
        "l = \"%\"\n",
        "l = l + \"%\"\n",
        "l"
      ]
    },
    {
      "cell_type": "code",
      "execution_count": null,
      "metadata": {
        "colab": {
          "base_uri": "https://localhost:8080/"
        },
        "id": "UuFZO0PqNqrf",
        "outputId": "386efeb7-3b36-48ac-fcfa-bad72fc61f49"
      },
      "outputs": [
        {
          "name": "stdout",
          "output_type": "stream",
          "text": [
            "*\n"
          ]
        }
      ],
      "source": [
        "a = '**'\n",
        "print(a[:-1])"
      ]
    },
    {
      "cell_type": "code",
      "execution_count": 4,
      "metadata": {
        "colab": {
          "base_uri": "https://localhost:8080/"
        },
        "id": "AHg-0S_Wjqa_",
        "outputId": "23c21efb-15d6-414b-9c97-7a99c9db892b"
      },
      "outputs": [
        {
          "output_type": "stream",
          "name": "stdout",
          "text": [
            "%\n",
            "%%\n",
            "%%%\n",
            "%%%%\n",
            "%%%%%\n",
            "%%%%%%\n",
            "%%%%%%%\n",
            "%%%%%%%%\n",
            "%%%%%%%%%\n",
            "%%%%%%%%%%\n",
            "%%%%%%%%%\n",
            "%%%%%%%%\n",
            "%%%%%%%\n",
            "%%%%%%\n",
            "%%%%%\n",
            "%%%%\n",
            "%%%\n",
            "%%\n",
            "%\n"
          ]
        }
      ],
      "source": [
        "l = \"%\"\n",
        "\n",
        "while len(l) < 10:\n",
        "  print(l)\n",
        "  l = l + \"%\"\n",
        "\n",
        "\n",
        "while len(l) > 0:\n",
        "  print(l)\n",
        "  l = l[:-1]"
      ]
    },
    {
      "cell_type": "code",
      "execution_count": null,
      "metadata": {
        "colab": {
          "base_uri": "https://localhost:8080/"
        },
        "id": "3A1s5ewDaNC8",
        "outputId": "9690bd9c-558b-4527-ba3c-73c40a8f7751"
      },
      "outputs": [
        {
          "name": "stdout",
          "output_type": "stream",
          "text": [
            "%%%%%%%%%%%%%%%%%%%%\n",
            "%%%%%%%%%%%%%%%%%%%%\n",
            "%%%%%%%%%%%%%%%%%%%%\n",
            "%                  %\n",
            "%%%%%%%%%%%%%%%%%%%%\n",
            "%%%%%%%%%%%%%%%%%%%%\n",
            "%%%%%%%%%%%%%%%%%%%%\n"
          ]
        }
      ],
      "source": [
        "print('%'*20)\n",
        "print('%'*20)\n",
        "print('%'*20)\n",
        "print('%'*1 + ' '*18 + '%'*1)\n",
        "print('%'*20)\n",
        "print('%'*20)\n",
        "print('%'*20)"
      ]
    },
    {
      "cell_type": "code",
      "execution_count": null,
      "metadata": {
        "colab": {
          "base_uri": "https://localhost:8080/"
        },
        "id": "7PbAcoheeyej",
        "outputId": "b22973b4-bebe-40be-d1a0-e983c46f00d5"
      },
      "outputs": [
        {
          "name": "stdout",
          "output_type": "stream",
          "text": [
            "%%%%%%%%%%%%\n",
            "%          %\n",
            "%          %\n",
            "%          %\n",
            "%          %\n",
            "%          %\n",
            "%%%%%%%%%%%%\n"
          ]
        }
      ],
      "source": [
        "print('%'*12)\n",
        "print('%'*1 + ' '*10 + '%'*1)\n",
        "print('%'*1 + ' '*10 + '%'*1)\n",
        "print('%'*1 + ' '*10 + '%'*1)\n",
        "print('%'*1 + ' '*10 + '%'*1)\n",
        "print('%'*1 + ' '*10 + '%'*1)\n",
        "print('%'*12)"
      ]
    },
    {
      "cell_type": "code",
      "execution_count": null,
      "metadata": {
        "colab": {
          "base_uri": "https://localhost:8080/"
        },
        "id": "OgmoK127B5df",
        "outputId": "0426bc08-ff67-43ae-ec16-54354ec80a6d"
      },
      "outputs": [
        {
          "output_type": "stream",
          "name": "stdout",
          "text": [
            "      *\n",
            "     **\n",
            "    ***\n",
            "   ****\n",
            "  *****\n",
            " ******\n"
          ]
        }
      ],
      "source": [
        "line = '*'\n",
        "space = '      '\n",
        "while len(space) > 0:\n",
        "  print(space + line)\n",
        "  space = space[:-1]\n",
        "  line+='*'"
      ]
    },
    {
      "cell_type": "code",
      "source": [
        "line = '*'\n",
        "space = '      '\n",
        "print(len(line))"
      ],
      "metadata": {
        "id": "fcpWC4W7Iqdn",
        "colab": {
          "base_uri": "https://localhost:8080/"
        },
        "outputId": "dd8cdc1e-2a01-4439-995a-ca349300c9c0"
      },
      "execution_count": null,
      "outputs": [
        {
          "output_type": "stream",
          "name": "stdout",
          "text": [
            "1\n"
          ]
        }
      ]
    },
    {
      "cell_type": "code",
      "execution_count": null,
      "metadata": {
        "id": "jV9XqCi66Kre",
        "outputId": "dc6e90d0-8e3c-4f5b-bb13-e2fc0e1c53c8"
      },
      "outputs": [
        {
          "name": "stdout",
          "output_type": "stream",
          "text": [
            "*\n",
            "**\n",
            "***\n",
            "****\n",
            "*****\n",
            "******\n",
            "*******\n",
            "********\n",
            "*********\n",
            "**********\n",
            "*********\n",
            "********\n",
            "*******\n",
            "******\n",
            "*****\n",
            "****\n",
            "***\n",
            "**\n",
            "*\n"
          ]
        }
      ],
      "source": [
        "line = '*'\n",
        "max_length = 10\n",
        "\n",
        "while len(line) < max_length:\n",
        "    print(line)\n",
        "    line += \"*\"\n",
        "\n",
        "while len(line) > 0:\n",
        "    print(line)\n",
        "    line = line[:-1]"
      ]
    },
    {
      "cell_type": "markdown",
      "metadata": {
        "id": "uaFMdtTE6Kre"
      },
      "source": [
        "Can you see how the above example works? As an exercise, try printing the following pattern using a while loop (Hint: use string concatenation):\n",
        "\n",
        "```\n",
        "          *\n",
        "         **\n",
        "        ***\n",
        "       ****\n",
        "      *****\n",
        "     ******\n",
        "      *****\n",
        "       ****\n",
        "        ***\n",
        "         **\n",
        "          *\n",
        "```\n",
        "\n",
        "Here's another one, putting the two together:\n",
        "\n",
        "\n",
        "```\n",
        "          *\n",
        "         ***\n",
        "        *****\n",
        "       *******\n",
        "      *********\n",
        "     ***********\n",
        "      *********\n",
        "       *******\n",
        "        *****\n",
        "         ***\n",
        "          *\n",
        "```\n",
        "\n",
        "Watch this playlist to learn how to create the above patterns: https://www.youtube.com/watch?v=2Icpbawb-vw&list=PLyMom0n-MBrpVcMqVV9kbA-hq2ygir0uW"
      ]
    },
    {
      "cell_type": "markdown",
      "metadata": {
        "id": "JFEj8E8m6Kre"
      },
      "source": [
        "### Infinite Loops\n",
        "\n",
        "Suppose the condition in a `while` loop always holds true. In that case, Python repeatedly executes the code within the loop forever, and the execution of the code never completes. This situation is called an infinite loop. It generally indicates that you've made a mistake in your code. For example, you may have provided the wrong condition or forgotten to update a variable within the loop, eventually falsifying the condition.\n",
        "\n",
        "If your code is *stuck* in an infinite loop during execution, just press the \"Stop\" button on the toolbar (next to \"Run\") or select \"Kernel > Interrupt\" from the menu bar. This will *interrupt* the execution of the code. The following two cells both lead to infinite loops and need to be interrupted."
      ]
    },
    {
      "cell_type": "code",
      "execution_count": null,
      "metadata": {
        "colab": {
          "base_uri": "https://localhost:8080/"
        },
        "id": "VQSV8FUt-xTD",
        "outputId": "04f9f972-f0ee-490c-bd97-7ad442879aff"
      },
      "outputs": [
        {
          "name": "stdout",
          "output_type": "stream",
          "text": [
            "12345678\n",
            "2345678\n",
            "345678\n",
            "45678\n",
            "5678\n",
            "678\n",
            "78\n",
            "8\n"
          ]
        }
      ],
      "source": [
        "challenge = '12345678'\n",
        "while len(challenge) > 0:\n",
        "  print(challenge)\n",
        "  challenge = challenge[1:]"
      ]
    },
    {
      "cell_type": "code",
      "execution_count": null,
      "metadata": {
        "colab": {
          "base_uri": "https://localhost:8080/"
        },
        "id": "OyjFMpyo-yIK",
        "outputId": "6c52e3a5-5aed-436c-cf65-84e311fab877"
      },
      "outputs": [
        {
          "name": "stdout",
          "output_type": "stream",
          "text": [
            "2345678\n"
          ]
        }
      ],
      "source": [
        "challenge = '12345678'\n",
        "challenge = challenge[1:]\n",
        "print(challenge)\n"
      ]
    },
    {
      "cell_type": "code",
      "execution_count": null,
      "metadata": {
        "colab": {
          "base_uri": "https://localhost:8080/",
          "height": 127
        },
        "id": "UbQykunF6Krf",
        "outputId": "74b9785e-1acd-41b9-dcb9-2c80befe728d"
      },
      "outputs": [
        {
          "output_type": "error",
          "ename": "KeyboardInterrupt",
          "evalue": "",
          "traceback": [
            "\u001b[0;31m---------------------------------------------------------------------------\u001b[0m",
            "\u001b[0;31mKeyboardInterrupt\u001b[0m                         Traceback (most recent call last)",
            "\u001b[0;32m<timed exec>\u001b[0m in \u001b[0;36m<module>\u001b[0;34m\u001b[0m\n",
            "\u001b[0;31mKeyboardInterrupt\u001b[0m: "
          ]
        }
      ],
      "source": [
        "# INFINITE LOOP - INTERRUPT THIS CELL\n",
        "%%time\n",
        "\n",
        "result = i = 1\n",
        "# i = 1\n",
        "\n",
        "while i <= 100:\n",
        "    result = result * i\n",
        "    # forgot to increment i\n",
        "print(i)"
      ]
    },
    {
      "cell_type": "code",
      "execution_count": null,
      "metadata": {
        "id": "Qh2UXfm9ardi"
      },
      "outputs": [],
      "source": []
    },
    {
      "cell_type": "code",
      "execution_count": null,
      "metadata": {
        "colab": {
          "base_uri": "https://localhost:8080/"
        },
        "id": "d76Ujmebd6P1",
        "outputId": "6d52edcc-cf48-4002-86d8-2ac7b4803595"
      },
      "outputs": [
        {
          "output_type": "stream",
          "name": "stdout",
          "text": [
            "1000001\n",
            "CPU times: user 3.12 s, sys: 10.1 ms, total: 3.13 s\n",
            "Wall time: 3.13 s\n"
          ]
        }
      ],
      "source": [
        "# INFINITE LOOP - INTERRUPT THIS CELL\n",
        "%%time\n",
        "\n",
        "result = 1\n",
        "i = 1\n",
        "\n",
        "while i <= 1000000:\n",
        "    result = result * i\n",
        "    i+=10\n",
        "    # forgot to increment i\n",
        "print(i)"
      ]
    },
    {
      "cell_type": "code",
      "execution_count": null,
      "metadata": {
        "id": "eEOSFz6r6Krf",
        "outputId": "68531401-51a9-45f7-9179-ba9f43560ccd",
        "colab": {
          "base_uri": "https://localhost:8080/",
          "height": 199
        }
      },
      "outputs": [
        {
          "output_type": "error",
          "ename": "KeyboardInterrupt",
          "evalue": "",
          "traceback": [
            "\u001b[0;31m---------------------------------------------------------------------------\u001b[0m",
            "\u001b[0;31mKeyboardInterrupt\u001b[0m                         Traceback (most recent call last)",
            "\u001b[0;32m<ipython-input-3-88538bfc3a39>\u001b[0m in \u001b[0;36m<cell line: 6>\u001b[0;34m()\u001b[0m\n\u001b[1;32m      4\u001b[0m \u001b[0mi\u001b[0m \u001b[0;34m=\u001b[0m \u001b[0;36m1\u001b[0m\u001b[0;34m\u001b[0m\u001b[0;34m\u001b[0m\u001b[0m\n\u001b[1;32m      5\u001b[0m \u001b[0;34m\u001b[0m\u001b[0m\n\u001b[0;32m----> 6\u001b[0;31m \u001b[0;32mwhile\u001b[0m \u001b[0mi\u001b[0m \u001b[0;34m>\u001b[0m \u001b[0;36m0\u001b[0m \u001b[0;34m:\u001b[0m \u001b[0;31m# wrong condition\u001b[0m\u001b[0;34m\u001b[0m\u001b[0;34m\u001b[0m\u001b[0m\n\u001b[0m\u001b[1;32m      7\u001b[0m     \u001b[0mresult\u001b[0m \u001b[0;34m*=\u001b[0m \u001b[0mi\u001b[0m\u001b[0;34m\u001b[0m\u001b[0;34m\u001b[0m\u001b[0m\n",
            "\u001b[0;31mKeyboardInterrupt\u001b[0m: "
          ]
        }
      ],
      "source": [
        "# INFINITE LOOP - INTERRUPT THIS CELL\n",
        "\n",
        "result = 1\n",
        "i = 1\n",
        "\n",
        "while i > 0 : # wrong condition\n",
        "    result *= i"
      ]
    },
    {
      "cell_type": "markdown",
      "metadata": {
        "id": "h4XOV2YU6Krf"
      },
      "source": [
        "### `break` and `continue` statements\n",
        "\n",
        "You can use the `break` statement within the loop's body to immediately stop the execution and *break* out of the loop (even if the condition provided to `while` still holds true)."
      ]
    },
    {
      "cell_type": "code",
      "source": [
        "number = 4\n",
        "number*=4\n",
        "print(number)"
      ],
      "metadata": {
        "colab": {
          "base_uri": "https://localhost:8080/"
        },
        "id": "nd9xbuwAv6U7",
        "outputId": "ec8c9b22-5913-4782-cb34-efee868acbb2"
      },
      "execution_count": null,
      "outputs": [
        {
          "output_type": "stream",
          "name": "stdout",
          "text": [
            "16\n"
          ]
        }
      ]
    },
    {
      "cell_type": "code",
      "execution_count": null,
      "metadata": {
        "colab": {
          "base_uri": "https://localhost:8080/"
        },
        "id": "7fGKJHeK6Krg",
        "outputId": "ab856eaa-3f0e-4971-8e53-e2537c32eac5"
      },
      "outputs": [
        {
          "output_type": "stream",
          "name": "stdout",
          "text": [
            "Magic number 42 reached! Stopping execution..\n",
            "i: 42\n",
            "result: 33452526613163807108170062053440751665152000000000\n"
          ]
        }
      ],
      "source": [
        "i = 1\n",
        "result = 1\n",
        "\n",
        "while i <= 100:\n",
        "    result *= i # result = result * i⁵\n",
        "    i +=1\n",
        "    if i == 42:\n",
        "        print('Magic number 42 reached! Stopping execution..')\n",
        "        break\n",
        "\n",
        "\n",
        "print('i:', i)\n",
        "print('result:', result)"
      ]
    },
    {
      "cell_type": "markdown",
      "metadata": {
        "id": "yswPGcVQ6Krg"
      },
      "source": [
        "As you can see above, the value of `i` at the end of execution is 42. This example also shows how you can use an `if` statement within a `while` loop.\n",
        "\n",
        "Sometimes you may not want to end the loop entirely, but simply skip the remaining statements in the loop and *continue* to the next loop. You can do this using the `continue` statement."
      ]
    },
    {
      "cell_type": "code",
      "execution_count": null,
      "metadata": {
        "id": "qtTfjT2C6Krg",
        "outputId": "cc6dca4f-8543-45a5-a019-c1f0d9b88981"
      },
      "outputs": [
        {
          "name": "stdout",
          "output_type": "stream",
          "text": [
            "Skipping 2\n",
            "Multiplying with 3\n",
            "Skipping 4\n",
            "Multiplying with 5\n",
            "Skipping 6\n",
            "Multiplying with 7\n",
            "Skipping 8\n",
            "Multiplying with 9\n",
            "Skipping 10\n",
            "Multiplying with 11\n",
            "Skipping 12\n",
            "Multiplying with 13\n",
            "Skipping 14\n",
            "Multiplying with 15\n",
            "Skipping 16\n",
            "Multiplying with 17\n",
            "Skipping 18\n",
            "Multiplying with 19\n",
            "Skipping 20\n",
            "i: 20\n",
            "result: 654729075\n"
          ]
        }
      ],
      "source": [
        "i = 1\n",
        "result = 1\n",
        "\n",
        "while i < 20:\n",
        "    i += 1\n",
        "    if i % 2 == 0:\n",
        "        print('Skipping {}'.format(i))\n",
        "        continue\n",
        "    print('Multiplying with {}'.format(i))\n",
        "    result = result * i\n",
        "\n",
        "print('i:', i)\n",
        "print('result:', result)"
      ]
    },
    {
      "cell_type": "markdown",
      "metadata": {
        "id": "IPrh-Zo26Krg"
      },
      "source": [
        "In the example above, the statement `result = result * i` inside the loop is skipped when `i` is even, as indicated by the messages printed during execution.\n",
        "\n",
        "> **Logging**: The process of adding `print` statements at different points in the code (often within loops and conditional statements) for inspecting the values of variables at various stages of execution is called logging. As our programs get larger, they naturally become prone to human errors. Logging can help in verifying the program is working as expected. In many cases, `print` statements are added while writing & testing some code and are removed later."
      ]
    },
    {
      "cell_type": "markdown",
      "metadata": {
        "id": "rIMHC4aF6Krh"
      },
      "source": [
        "Let us record a snapshot of our work before continuing using `jovian.commit`."
      ]
    },
    {
      "cell_type": "code",
      "execution_count": null,
      "metadata": {
        "id": "nd4hlsSm6Krh",
        "outputId": "eb644100-912f-4d3b-a586-a4be5b99dddc"
      },
      "outputs": [
        {
          "data": {
            "application/javascript": [
              "window.require && require([\"base/js/namespace\"],function(Jupyter){Jupyter.notebook.save_checkpoint()})"
            ],
            "text/plain": [
              "<IPython.core.display.Javascript object>"
            ]
          },
          "metadata": {},
          "output_type": "display_data"
        },
        {
          "name": "stdout",
          "output_type": "stream",
          "text": [
            "[jovian] Attempting to save notebook..\u001b[0m\n",
            "[jovian] Updating notebook \"aakashns/python-branching-and-loops\" on https://jovian.ai/\u001b[0m\n",
            "[jovian] Uploading notebook..\u001b[0m\n",
            "[jovian] Capturing environment..\u001b[0m\n",
            "[jovian] Committed successfully! https://jovian.ai/aakashns/python-branching-and-loops\u001b[0m\n"
          ]
        },
        {
          "data": {
            "text/plain": [
              "'https://jovian.ai/aakashns/python-branching-and-loops'"
            ]
          },
          "execution_count": 45,
          "metadata": {},
          "output_type": "execute_result"
        }
      ],
      "source": [
        "jovian.commit()"
      ]
    },
    {
      "cell_type": "markdown",
      "metadata": {
        "id": "zOMi8YWg6Krh"
      },
      "source": [
        "## Iteration with `for` loops\n",
        "\n",
        "A `for` loop is used for iterating or looping over sequences, i.e., lists, tuples, dictionaries, strings, and *ranges*. For loops have the following syntax:\n",
        "\n",
        "```\n",
        "for value in sequence:\n",
        "    statement(s)\n",
        "```\n",
        "\n",
        "The statements within the loop are executed once for each element in `sequence`. Here's an example that prints all the element of a list."
      ]
    },
    {
      "cell_type": "code",
      "execution_count": null,
      "metadata": {
        "colab": {
          "base_uri": "https://localhost:8080/"
        },
        "id": "61ex2Pam6Kri",
        "outputId": "c36d5e10-9de9-49a4-9a9f-649fd13cc9d7"
      },
      "outputs": [
        {
          "name": "stdout",
          "output_type": "stream",
          "text": [
            "Monday\n",
            "Tuesday\n",
            "Wednesday\n",
            "Thursday\n",
            "Friday\n"
          ]
        }
      ],
      "source": [
        "days = ['Monday', 'Tuesday', 'Wednesday', 'Thursday', 'Friday']\n",
        "\n",
        "for i in days:\n",
        "    print(i)"
      ]
    },
    {
      "cell_type": "code",
      "execution_count": null,
      "metadata": {
        "colab": {
          "base_uri": "https://localhost:8080/"
        },
        "id": "tsCbG8nEt29d",
        "outputId": "2f67de1f-a24d-47b7-d41c-40b9b2ce4f17"
      },
      "outputs": [
        {
          "name": "stdout",
          "output_type": "stream",
          "text": [
            "range(0, 10)\n"
          ]
        }
      ],
      "source": [
        "print(range(10))"
      ]
    },
    {
      "cell_type": "code",
      "execution_count": null,
      "metadata": {
        "colab": {
          "base_uri": "https://localhost:8080/"
        },
        "id": "RAZWqjvzp8oT",
        "outputId": "113dbc67-c4ab-45b7-a776-7080f75aec17"
      },
      "outputs": [
        {
          "name": "stdout",
          "output_type": "stream",
          "text": [
            "0\n",
            "1\n",
            "2\n",
            "3\n",
            "4\n",
            "5\n",
            "6\n",
            "7\n",
            "8\n",
            "9\n"
          ]
        }
      ],
      "source": [
        "for i in range(10):\n",
        "  print(i)"
      ]
    },
    {
      "cell_type": "markdown",
      "metadata": {
        "id": "IgI3vAJY6Kri"
      },
      "source": [
        "Let's try using `for` loops with some other data types."
      ]
    },
    {
      "cell_type": "code",
      "execution_count": null,
      "metadata": {
        "id": "OYEBRZtz6Krj",
        "outputId": "cd4038c5-0acc-4a93-d1fe-d79991618e97"
      },
      "outputs": [
        {
          "name": "stdout",
          "output_type": "stream",
          "text": [
            "M\n",
            "o\n",
            "n\n",
            "d\n",
            "a\n",
            "y\n"
          ]
        }
      ],
      "source": [
        "# Looping over a string\n",
        "for char in 'Monday':\n",
        "    print(char)"
      ]
    },
    {
      "cell_type": "code",
      "execution_count": null,
      "metadata": {
        "colab": {
          "base_uri": "https://localhost:8080/"
        },
        "id": "GAcFTt1w6Krj",
        "outputId": "e6c4e79c-ad17-43d5-cb89-4e8a19fe49ed"
      },
      "outputs": [
        {
          "name": "stdout",
          "output_type": "stream",
          "text": [
            "Here's a fruit: Apple\n",
            "Here's a fruit: Banana\n",
            "Here's a fruit: Guava\n"
          ]
        }
      ],
      "source": [
        "# Looping over a tuple\n",
        "for fruit in ('Apple', 'Banana', 'Guava'):\n",
        "    print(\"Here's a fruit:\", fruit)"
      ]
    },
    {
      "cell_type": "code",
      "execution_count": 5,
      "metadata": {
        "colab": {
          "base_uri": "https://localhost:8080/"
        },
        "id": "IoC1kz6W6Krk",
        "outputId": "ec666fde-cd3e-4cf9-9870-e0ed5da75392"
      },
      "outputs": [
        {
          "output_type": "stream",
          "name": "stdout",
          "text": [
            "name John Doe\n",
            "sex Male\n",
            "age 32\n",
            "married True\n"
          ]
        }
      ],
      "source": [
        "# Looping over a dictionary\n",
        "person = {\n",
        "    'name': 'John Doe',\n",
        "    'sex': 'Male',\n",
        "    'age': 32,\n",
        "    'married': True\n",
        "}\n",
        "\n",
        "for key in person:\n",
        "     print(key, person[key])"
      ]
    },
    {
      "cell_type": "code",
      "execution_count": 6,
      "metadata": {
        "colab": {
          "base_uri": "https://localhost:8080/",
          "height": 36
        },
        "id": "lMuswH3GzTxS",
        "outputId": "b71d6e0d-0272-49cc-ac34-a4e9f2c77e83"
      },
      "outputs": [
        {
          "output_type": "execute_result",
          "data": {
            "text/plain": [
              "'John Doe'"
            ],
            "application/vnd.google.colaboratory.intrinsic+json": {
              "type": "string"
            }
          },
          "metadata": {},
          "execution_count": 6
        }
      ],
      "source": [
        "person['name']"
      ]
    },
    {
      "cell_type": "code",
      "execution_count": 7,
      "metadata": {
        "id": "sJUZSctGqQoK",
        "colab": {
          "base_uri": "https://localhost:8080/"
        },
        "outputId": "9598d696-74dc-42cb-c18b-472cb58e3287"
      },
      "outputs": [
        {
          "output_type": "execute_result",
          "data": {
            "text/plain": [
              "dict_values(['John Doe', 'Male', 32, True])"
            ]
          },
          "metadata": {},
          "execution_count": 7
        }
      ],
      "source": [
        "person.values()"
      ]
    },
    {
      "cell_type": "markdown",
      "metadata": {
        "id": "b4ZeEzRy6Krk"
      },
      "source": [
        "Note that while using a dictionary with a `for` loop, the iteration happens over the dictionary's keys. The key can be used within the loop to access the value. You can also iterate directly over the values using the `.values` method or over key-value pairs using the `.items` method."
      ]
    },
    {
      "cell_type": "code",
      "source": [
        "person.keys()"
      ],
      "metadata": {
        "colab": {
          "base_uri": "https://localhost:8080/"
        },
        "id": "biEJPcKJgaDN",
        "outputId": "efd0116e-8996-4150-9ac0-bbc5b94bf4a7"
      },
      "execution_count": 8,
      "outputs": [
        {
          "output_type": "execute_result",
          "data": {
            "text/plain": [
              "dict_keys(['name', 'sex', 'age', 'married'])"
            ]
          },
          "metadata": {},
          "execution_count": 8
        }
      ]
    },
    {
      "cell_type": "code",
      "source": [
        "for item in person.keys():\n",
        "  print(item)"
      ],
      "metadata": {
        "colab": {
          "base_uri": "https://localhost:8080/"
        },
        "id": "iJ3KMVcngekN",
        "outputId": "cbf36fa5-dc0c-44ef-c250-0a474ea6e83f"
      },
      "execution_count": 9,
      "outputs": [
        {
          "output_type": "stream",
          "name": "stdout",
          "text": [
            "name\n",
            "sex\n",
            "age\n",
            "married\n"
          ]
        }
      ]
    },
    {
      "cell_type": "code",
      "execution_count": null,
      "metadata": {
        "id": "tAV5tLsg6Krk",
        "outputId": "28b28eb3-4739-4890-d5c6-777cbca56e94"
      },
      "outputs": [
        {
          "name": "stdout",
          "output_type": "stream",
          "text": [
            "John Doe\n",
            "Male\n",
            "32\n",
            "True\n"
          ]
        }
      ],
      "source": [
        "for value in person.values():\n",
        "    print(value)"
      ]
    },
    {
      "cell_type": "code",
      "source": [
        "person.items()"
      ],
      "metadata": {
        "colab": {
          "base_uri": "https://localhost:8080/"
        },
        "id": "XV_uRA_A2pNa",
        "outputId": "b3aa3383-740b-45ec-ff3d-7df6984b3f4c"
      },
      "execution_count": null,
      "outputs": [
        {
          "output_type": "execute_result",
          "data": {
            "text/plain": [
              "dict_items([('name', 'John Doe'), ('sex', 'Male'), ('age', 32), ('married', True)])"
            ]
          },
          "metadata": {},
          "execution_count": 14
        }
      ]
    },
    {
      "cell_type": "code",
      "source": [
        "person.items()"
      ],
      "metadata": {
        "id": "6GHbDqKu2o7M"
      },
      "execution_count": null,
      "outputs": []
    },
    {
      "cell_type": "code",
      "source": [
        "for key, value in person.items():\n",
        "    print(key, value)"
      ],
      "metadata": {
        "id": "gDCZWCVt2puK",
        "colab": {
          "base_uri": "https://localhost:8080/"
        },
        "outputId": "112e9a55-856d-4f7e-8713-760c7bf74c39"
      },
      "execution_count": 11,
      "outputs": [
        {
          "output_type": "stream",
          "name": "stdout",
          "text": [
            "name John Doe\n",
            "sex Male\n",
            "age 32\n",
            "married True\n"
          ]
        }
      ]
    },
    {
      "cell_type": "code",
      "execution_count": null,
      "metadata": {
        "colab": {
          "base_uri": "https://localhost:8080/"
        },
        "id": "dnmotaUf6Krk",
        "outputId": "cfe391a8-182e-45ef-ba59-dc5da4793adc"
      },
      "outputs": [
        {
          "name": "stdout",
          "output_type": "stream",
          "text": [
            "name John Doe\n",
            "sex Male\n",
            "age 32\n",
            "married True\n"
          ]
        }
      ],
      "source": [
        "for key, value in person.items():\n",
        "    print(key, value)"
      ]
    },
    {
      "cell_type": "code",
      "execution_count": null,
      "metadata": {
        "colab": {
          "base_uri": "https://localhost:8080/"
        },
        "id": "16YbftVI7cIW",
        "outputId": "c95037f7-a588-4fbc-90fc-9d094e199602"
      },
      "outputs": [
        {
          "output_type": "stream",
          "name": "stdout",
          "text": [
            "name : John Doe\n",
            "sex : Male\n",
            "age : 32\n",
            "married : True\n"
          ]
        }
      ],
      "source": [
        "for x, y in person.items():\n",
        "  print(f'{x} : {y}')"
      ]
    },
    {
      "cell_type": "markdown",
      "metadata": {
        "id": "Okr_TKH96Krl"
      },
      "source": [
        "Since a key-value pair is a tuple, we can also extract the key & value into separate variables."
      ]
    },
    {
      "cell_type": "code",
      "execution_count": 12,
      "metadata": {
        "colab": {
          "base_uri": "https://localhost:8080/"
        },
        "id": "e3vvC3lP6Krl",
        "outputId": "677d1ae1-6a5f-4f93-b125-ff2e11cbd0df"
      },
      "outputs": [
        {
          "output_type": "stream",
          "name": "stdout",
          "text": [
            "('name', 'John Doe')\n",
            "('sex', 'Male')\n",
            "('age', 32)\n",
            "('married', True)\n"
          ]
        }
      ],
      "source": [
        "for item in person.items():\n",
        "    print(item)"
      ]
    },
    {
      "cell_type": "markdown",
      "metadata": {
        "id": "b6MmJRvr6Krl"
      },
      "source": [
        "### Iterating using `range` and `enumerate`\n",
        "\n",
        "The `range` function is used to create a sequence of numbers that can be iterated over using a `for` loop. It can be used in 3 ways:\n",
        "\n",
        "* `range(n)` - Creates a sequence of numbers from `0` to `n-1`\n",
        "* `range(a, b)` - Creates a sequence of numbers from `a` to `b-1`\n",
        "* `range(a, b, step)` - Creates a sequence of numbers from `a` to `b-1` with increments of `step`\n",
        "\n",
        "Let's try it out."
      ]
    },
    {
      "cell_type": "code",
      "execution_count": null,
      "metadata": {
        "id": "hLj_i_Rp6Krl",
        "outputId": "9442713a-4477-4fca-e355-0ab37425502e"
      },
      "outputs": [
        {
          "name": "stdout",
          "output_type": "stream",
          "text": [
            "0\n",
            "1\n",
            "2\n",
            "3\n",
            "4\n",
            "5\n",
            "6\n"
          ]
        }
      ],
      "source": [
        "for i in range(7):\n",
        "    print(i)"
      ]
    },
    {
      "cell_type": "code",
      "execution_count": null,
      "metadata": {
        "id": "Vsyli5bT6Krl",
        "outputId": "ff7b038b-5826-4ed8-b350-eec91e39a64b"
      },
      "outputs": [
        {
          "name": "stdout",
          "output_type": "stream",
          "text": [
            "3\n",
            "4\n",
            "5\n",
            "6\n",
            "7\n",
            "8\n",
            "9\n"
          ]
        }
      ],
      "source": [
        "for i in range(3, 10):\n",
        "    print(i)"
      ]
    },
    {
      "cell_type": "code",
      "execution_count": null,
      "metadata": {
        "id": "RRLiTc_X6Krm",
        "outputId": "1645be5b-1fb2-4377-853a-fbc68403b94b"
      },
      "outputs": [
        {
          "name": "stdout",
          "output_type": "stream",
          "text": [
            "3\n",
            "7\n",
            "11\n"
          ]
        }
      ],
      "source": [
        "for i in range(3, 14, 4):\n",
        "    print(i)"
      ]
    },
    {
      "cell_type": "markdown",
      "metadata": {
        "id": "KN6Al26j6Krm"
      },
      "source": [
        "Ranges are used for iterating over lists when you need to track the index of elements while iterating."
      ]
    },
    {
      "cell_type": "code",
      "execution_count": 14,
      "metadata": {
        "colab": {
          "base_uri": "https://localhost:8080/"
        },
        "id": "uzPd0SNC6Krm",
        "outputId": "388fb95b-817a-4eb3-d3a6-7af7f02ed1ca"
      },
      "outputs": [
        {
          "output_type": "stream",
          "name": "stdout",
          "text": [
            "The value at position 0 is Monday.\n",
            "The value at position 2 is Wednesday.\n",
            "The value at position 4 is Friday.\n"
          ]
        }
      ],
      "source": [
        "a_list = ['Monday', 'Tuesday', 'Wednesday', 'Thursday', 'Friday']\n",
        "\n",
        "for i in range(len(a_list)):\n",
        "  if i % 2 == 0:\n",
        "    print(f'The value at position {i} is {a_list[i]}.')"
      ]
    },
    {
      "cell_type": "code",
      "source": [
        "len(a_list)"
      ],
      "metadata": {
        "colab": {
          "base_uri": "https://localhost:8080/"
        },
        "id": "GeDi_rRjjDqm",
        "outputId": "02080c4b-c524-49c4-a785-5be51245d92c"
      },
      "execution_count": 16,
      "outputs": [
        {
          "output_type": "execute_result",
          "data": {
            "text/plain": [
              "5"
            ]
          },
          "metadata": {},
          "execution_count": 16
        }
      ]
    },
    {
      "cell_type": "code",
      "source": [
        "for i in range(5):\n",
        "    print(i)"
      ],
      "metadata": {
        "colab": {
          "base_uri": "https://localhost:8080/"
        },
        "id": "EPzt67A_i8bM",
        "outputId": "ad2bc627-c66c-45c6-c34e-57808c05245c"
      },
      "execution_count": 17,
      "outputs": [
        {
          "output_type": "stream",
          "name": "stdout",
          "text": [
            "0\n",
            "1\n",
            "2\n",
            "3\n",
            "4\n"
          ]
        }
      ]
    },
    {
      "cell_type": "code",
      "execution_count": null,
      "metadata": {
        "colab": {
          "base_uri": "https://localhost:8080/",
          "height": 35
        },
        "id": "L2-oSmj7fa3R",
        "outputId": "ba43857f-a394-4a63-bf6c-defe3daceccf"
      },
      "outputs": [
        {
          "output_type": "execute_result",
          "data": {
            "text/plain": [
              "'Monday'"
            ],
            "application/vnd.google.colaboratory.intrinsic+json": {
              "type": "string"
            }
          },
          "metadata": {},
          "execution_count": 7
        }
      ],
      "source": [
        "a_list[0]"
      ]
    },
    {
      "cell_type": "markdown",
      "metadata": {
        "id": "SYidSzsJ6Krn"
      },
      "source": [
        "Another way to achieve the same result is by using the `enumerate` function with `a_list` as an input, which returns a tuple containing the index and the corresponding element."
      ]
    },
    {
      "cell_type": "code",
      "execution_count": null,
      "metadata": {
        "colab": {
          "base_uri": "https://localhost:8080/"
        },
        "id": "iIwx8hPs6Krn",
        "outputId": "cb4400aa-1e48-4538-e345-3a41975bb38d"
      },
      "outputs": [
        {
          "output_type": "stream",
          "name": "stdout",
          "text": [
            "The value at position 0 is Monday.\n",
            "The value at position 1 is Tuesday.\n",
            "The value at position 2 is Wednesday.\n",
            "The value at position 3 is Thursday.\n",
            "The value at position 4 is Friday.\n"
          ]
        }
      ],
      "source": [
        "for i, val in enumerate(a_list):\n",
        "    print(f'The value at position {i} is {val}.')"
      ]
    },
    {
      "cell_type": "markdown",
      "metadata": {
        "id": "Nv81Jnq66Krn"
      },
      "source": [
        "### `break`, `continue` and `pass` statements\n",
        "\n",
        "Similar to `while` loops, `for` loops also support the `break` and `continue` statements. `break` is used for breaking out of the loop and `continue` is used for skipping ahead to the next iteration."
      ]
    },
    {
      "cell_type": "code",
      "execution_count": null,
      "metadata": {
        "id": "fpjIVFYv6Kro"
      },
      "outputs": [],
      "source": [
        "weekdays = ['Monday', 'Tuesday', 'Wednesday', 'Thursday', 'Friday']"
      ]
    },
    {
      "cell_type": "code",
      "execution_count": null,
      "metadata": {
        "colab": {
          "base_uri": "https://localhost:8080/"
        },
        "id": "-aE1G1Ng6Kro",
        "outputId": "d14f6c68-cb8a-4558-8fb4-b6d89fc426d5"
      },
      "outputs": [
        {
          "output_type": "stream",
          "name": "stdout",
          "text": [
            "Today is Monday\n",
            "Today is Tuesday\n",
            "I don't work beyond Wednesday!\n"
          ]
        }
      ],
      "source": [
        "\n",
        "\n",
        "for day in weekdays:\n",
        "    if day == 'Wednesday':\n",
        "        print(\"I don't work beyond Wednesday!\")\n",
        "        break\n",
        "    print(f'Today is {day}')\n",
        "    #continue"
      ]
    },
    {
      "cell_type": "code",
      "execution_count": null,
      "metadata": {
        "id": "_FaBnsdP6Kro",
        "outputId": "695af866-e968-4719-b997-46008fb873f8"
      },
      "outputs": [
        {
          "name": "stdout",
          "output_type": "stream",
          "text": [
            "Today is Monday\n",
            "Today is Tuesday\n",
            "I don't work on Wednesday!\n",
            "Today is Thursday\n",
            "Today is Friday\n"
          ]
        }
      ],
      "source": [
        "for day in weekdays:\n",
        "    if (day == 'Wednesday'):\n",
        "        print(\"I don't work on Wednesday!\")\n",
        "        continue\n",
        "    print('Today is {}'.format(day))"
      ]
    },
    {
      "cell_type": "markdown",
      "metadata": {
        "id": "fkwIuDVu6Krp"
      },
      "source": [
        "Like `if` statements, `for` loops cannot be empty, so you can use a `pass` statement if you don't want to execute any statements inside the loop."
      ]
    },
    {
      "cell_type": "code",
      "execution_count": null,
      "metadata": {
        "id": "bRqIwyDp6Krp"
      },
      "outputs": [],
      "source": [
        "for day in weekdays:\n",
        "    pass"
      ]
    },
    {
      "cell_type": "markdown",
      "metadata": {
        "id": "AX__URly6Krp"
      },
      "source": [
        "### Nested `for` and `while` loops\n",
        "\n",
        "Similar to conditional statements, loops can be nested inside other loops. This is useful for looping lists of lists, dictionaries etc."
      ]
    },
    {
      "cell_type": "code",
      "source": [],
      "metadata": {
        "id": "L7BrNpFnlenD"
      },
      "execution_count": null,
      "outputs": []
    },
    {
      "cell_type": "code",
      "execution_count": null,
      "metadata": {
        "colab": {
          "base_uri": "https://localhost:8080/"
        },
        "id": "7JELgou9g3ZM",
        "outputId": "4a3875c5-8a9c-4763-ae81-dace88cd5725"
      },
      "outputs": [
        {
          "name": "stdout",
          "output_type": "stream",
          "text": [
            "name\n",
            "sex\n"
          ]
        }
      ],
      "source": [
        "for i in {'name': 'John', 'sex': 'Male'}:\n",
        "   print(i)"
      ]
    },
    {
      "cell_type": "code",
      "execution_count": 19,
      "metadata": {
        "colab": {
          "base_uri": "https://localhost:8080/"
        },
        "id": "XGSwOcsb6Krp",
        "outputId": "7c738a20-0e41-4804-f813-e8b56cd28fce"
      },
      "outputs": [
        {
          "output_type": "stream",
          "name": "stdout",
          "text": [
            "{'name': 'John', 'sex': 'Male'}\n",
            "name John\n",
            "sex Male\n",
            "{'name': 'Jane', 'sex': 'Female'}\n",
            "name Jane\n",
            "sex Female\n"
          ]
        }
      ],
      "source": [
        "persons = [{'name': 'John', 'sex': 'Male'}, {'name': 'Jane', 'sex': 'Female'}]\n",
        "\n",
        "for person in persons:\n",
        "  print(person)\n",
        "  for key in person:\n",
        "    print(key, person[key])"
      ]
    },
    {
      "cell_type": "code",
      "execution_count": null,
      "metadata": {
        "colab": {
          "base_uri": "https://localhost:8080/"
        },
        "id": "OWqvrOd96Krq",
        "outputId": "5d29e932-5486-4dfe-a920-e07c067a20b4"
      },
      "outputs": [
        {
          "output_type": "stream",
          "name": "stdout",
          "text": [
            "Monday apple\n",
            "Monday banana\n",
            "Monday guava\n",
            "--------------\n",
            "Tuesday apple\n",
            "Tuesday banana\n",
            "Tuesday guava\n",
            "--------------\n",
            "Wednesday apple\n",
            "Wednesday banana\n",
            "Wednesday guava\n",
            "--------------\n"
          ]
        }
      ],
      "source": [
        ""
      ]
    },
    {
      "cell_type": "markdown",
      "metadata": {
        "id": "V1VccXIA6Krq"
      },
      "source": [
        "With this, we conclude our discussion of branching and loops in Python."
      ]
    },
    {
      "cell_type": "markdown",
      "metadata": {
        "id": "4ciq40jD6Krq"
      },
      "source": [
        "## Further Reading and References\n",
        "\n",
        "We've covered a lot of ground in just 3 tutorials.\n",
        "\n",
        "Following are some resources to learn about more about conditional statements and loops in Python:\n",
        "\n",
        "* Python Tutorial at W3Schools: https://www.w3schools.com/python/\n",
        "* Practical Python Programming: https://dabeaz-course.github.io/practical-python/Notes/Contents.html\n",
        "* Python official documentation: https://docs.python.org/3/tutorial/index.html\n",
        "\n",
        "You are now ready to move on to the next tutorial: [Writing Reusable Code Using Functions in Python](https://jovian.ai/aakashns/python-functions-and-scope)\n",
        "\n",
        "Let's save a snapshot of our notebook one final time using `jovian.commit`."
      ]
    },
    {
      "cell_type": "code",
      "execution_count": null,
      "metadata": {
        "id": "RtotupwZ6Krq",
        "outputId": "4b40daff-3b7b-4fc9-f532-862780f9923f"
      },
      "outputs": [
        {
          "data": {
            "application/javascript": [
              "window.require && require([\"base/js/namespace\"],function(Jupyter){Jupyter.notebook.save_checkpoint()})"
            ],
            "text/plain": [
              "<IPython.core.display.Javascript object>"
            ]
          },
          "metadata": {},
          "output_type": "display_data"
        },
        {
          "name": "stdout",
          "output_type": "stream",
          "text": [
            "[jovian] Attempting to save notebook..\u001b[0m\n"
          ]
        }
      ],
      "source": [
        "jovian.commit()"
      ]
    },
    {
      "cell_type": "markdown",
      "metadata": {
        "id": "WJke0EYp6Krr"
      },
      "source": [
        "## Questions for Revision\n",
        "\n",
        "Try answering the following questions to test your understanding of the topics covered in this notebook:\n",
        "\n",
        "1. What is branching in programming languages?\n",
        "2. What is the purpose of the `if` statement in Python?\n",
        "3. What is the syntax of the `if` statement? Give an example.\n",
        "4. What is indentation? Why is it used?\n",
        "5. What is an indented block of statements?\n",
        "6. How do you perform indentation in Python?\n",
        "7. What happens if some code is not indented correctly?\n",
        "8. What happens when the condition within the `if` statement evaluates to `True`? What happens if the condition evaluates for `false`?\n",
        "9. How do you check if a number is even?\n",
        "10. What is the purpose of the `else` statement in Python?\n",
        "11. What is the syntax of the `else` statement? Give an example.\n",
        "12. Write a program that prints different messages based on whether a number is positive or negative.\n",
        "13. Can the `else` statement be used without an `if` statement?\n",
        "14. What is the purpose of the `elif` statement in Python?\n",
        "15. What is the syntax of the `elif` statement? Give an example.\n",
        "16. Write a program that prints different messages for different months of the year.\n",
        "17. Write a program that uses `if`, `elif`, and `else` statements together.\n",
        "18. Can the `elif` statement be used without an `if` statement?\n",
        "19. Can the `elif` statement be used without an `else` statement?\n",
        "20. What is the difference between a chain of `if`, `elif`, `elif`… statements and a chain of `if`, `if`, `if`… statements? Give an example.\n",
        "21. Can non-boolean conditions be used with `if` statements? Give some examples.\n",
        "22. What are nested conditional statements? How are they useful?\n",
        "23. Give an example of nested conditional statements.\n",
        "24. Why is it advisable to avoid nested conditional statements?\n",
        "25. What is the shorthand `if` conditional expression?\n",
        "26. What is the syntax of the shorthand `if` conditional expression? Give an example.\n",
        "27. What is the difference between the shorthand `if` expression and the regular `if` statement?\n",
        "28. What is a statement in Python?\n",
        "29. What is an expression in Python?\n",
        "30. What is the difference between statements and expressions?\n",
        "31. Is every statement an expression? Give an example or counterexample.\n",
        "32. Is every expression a statement? Give an example or counterexample.\n",
        "33. What is the purpose of the pass statement in `if` blocks?\n",
        "34. What is iteration or looping in programming languages? Why is it useful?\n",
        "35. What are the two ways for performing iteration in Python?\n",
        "36. What is the purpose of the `while` statement in Python?\n",
        "37. What is the syntax of the `white` statement in Python? Give an example.\n",
        "38. Write a program to compute the sum of the numbers 1 to 100 using a while loop.\n",
        "39. Repeat the above program for numbers up to 1000, 10000, and 100000. How long does it take each loop to complete?\n",
        "40. What is an infinite loop?\n",
        "41. What causes a program to enter an infinite loop?\n",
        "42. How do you interrupt an infinite loop within Jupyter?\n",
        "43. What is the purpose of the `break` statement in Python?\n",
        "44. Give an example of using a `break` statement within a while loop.\n",
        "45. What is the purpose of the `continue` statement in Python?\n",
        "46. Give an example of using the `continue` statement within a while loop.\n",
        "47. What is logging? How is it useful?\n",
        "48. What is the purpose of the `for` statement in Python?\n",
        "49. What is the syntax of `for` loops? Give an example.\n",
        "50. How are for loops and while loops different?\n",
        "51. How do you loop over a string? Give an example.\n",
        "52. How do you loop over a list? Give an example.\n",
        "53. How do you loop over a tuple? Give an example.\n",
        "54. How do you loop over a dictionary? Give an example.\n",
        "55. What is the purpose of the `range` statement? Give an example.\n",
        "56. What is the purpose of the `enumerate` statement? Give an example.\n",
        "57. How are the `break`, `continue`, and `pass` statements used in for loops? Give examples.\n",
        "58. Can loops be nested within other loops? How is nesting useful?\n",
        "59. Give an example of a for loop nested within another for loop.\n",
        "60. Give an example of a while loop nested within another while loop.\n",
        "61. Give an example of a for loop nested within a while loop.\n",
        "62. Give an example of a while loop nested within a for loop.\n",
        "\n"
      ]
    },
    {
      "cell_type": "code",
      "execution_count": null,
      "metadata": {
        "id": "BMuN8LNh6Krr"
      },
      "outputs": [],
      "source": []
    }
  ],
  "metadata": {
    "colab": {
      "provenance": []
    },
    "kernelspec": {
      "display_name": "Python 3 (ipykernel)",
      "language": "python",
      "name": "python3"
    },
    "language_info": {
      "codemirror_mode": {
        "name": "ipython",
        "version": 3
      },
      "file_extension": ".py",
      "mimetype": "text/x-python",
      "name": "python",
      "nbconvert_exporter": "python",
      "pygments_lexer": "ipython3",
      "version": "3.10.12"
    }
  },
  "nbformat": 4,
  "nbformat_minor": 0
}